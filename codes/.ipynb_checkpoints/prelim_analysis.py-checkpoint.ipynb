{
 "cells": [
  {
   "cell_type": "code",
   "execution_count": 1,
   "metadata": {},
   "outputs": [
    {
     "name": "stdout",
     "output_type": "stream",
     "text": [
      "Sincere donors=  115\n",
      "Sincere non-donors=  66\n",
      "Insincere donors=  119\n"
     ]
    }
   ],
   "source": [
    "import sys; sys.path.append('common/');\n",
    "from helper import *\n",
    "\n",
    "DATA_PATH = '/projects/persuasionforgood-master/Face_acts/dialogue_act_prediction/resisting-persuasion/data'\n",
    "\n",
    "df = pd.read_csv(DATA_PATH+'/Final_annotations.csv')\n",
    "df = df.rename(columns={\"Our Label\": \"fine_labels\"})\n",
    "\n",
    "fine_labels = [i for i in list(set(df['fine_labels'])) if i==i]\n",
    "\n",
    "fine2coarse_dict = {}\n",
    "fine2coarse_dict['deflect-responsibility'] = 'contesting'\n",
    "fine2coarse_dict['organization-inquiry']   = 'biased-processing'\n",
    "fine2coarse_dict['attack-credibility']     = 'contesting'\n",
    "fine2coarse_dict['self-pity']              = 'empowerment'\n",
    "fine2coarse_dict['nitpicking']             = 'contesting'\n",
    "fine2coarse_dict['direct-rejection']       = 'avoidance'\n",
    "fine2coarse_dict['personal-choice']        = 'empowerment'\n",
    "fine2coarse_dict['delay-tactic']           = 'avoidance'\n",
    "fine2coarse_dict['hesitance']              = 'avoidance'\n",
    "fine2coarse_dict['not-a-strategy']         = 'not-a-strategy'\n",
    "\n",
    "fine2resistance_dict = {}\n",
    "fine2resistance_dict['deflect-responsibility'] = 'counter-argumentation'\n",
    "fine2resistance_dict['organization-inquiry']   = 'biased-processing'\n",
    "fine2resistance_dict['attack-credibility']     = 'source-degradation'\n",
    "fine2resistance_dict['self-pity']              = 'empowerment'\n",
    "fine2resistance_dict['nitpicking']             = 'counter-argumentation'\n",
    "fine2resistance_dict['direct-rejection']       = 'self-assertion'\n",
    "fine2resistance_dict['personal-choice']        = 'attitude-bolstering'\n",
    "fine2resistance_dict['delay-tactic']           = 'avoidance'\n",
    "fine2resistance_dict['hesitance']              = 'avoidance'\n",
    "fine2resistance_dict['not-a-strategy']         = 'not-a-strategy'\n",
    "\n",
    "coarse_labels     = []\n",
    "resistance_labels = []\n",
    "\n",
    "for i, row in df.iterrows():\n",
    "    label = row['fine_labels']\n",
    "    if label in fine2coarse_dict:\n",
    "        coarse_labels.append(fine2coarse_dict[label])\n",
    "        resistance_labels.append(fine2resistance_dict[label])\n",
    "    else:\n",
    "        resistance_labels.append('None')\n",
    "        coarse_labels.append('None')\n",
    "        \n",
    "df['coarse_labels'] = coarse_labels\n",
    "df['resistance_labels'] = resistance_labels\n",
    "\n",
    "info_df = pd.read_csv(DATA_PATH+'/300_info.csv',sep=',')\n",
    "\n",
    "sincere_donors_ids=set()\n",
    "sincere_nondonors_ids=set()\n",
    "insincere_donors_ids=set()\n",
    "for index, row in info_df.iterrows():\n",
    "    did= row['B2']\n",
    "    role=str(row['B4'])\n",
    "    prop_amt=float(row['B5'])\n",
    "    amt= float(row['B6'])\n",
    "    if role =='1':\n",
    "        if amt>0 and prop_amt<= amt:\n",
    "            sincere_donors_ids.add(did)\n",
    "        elif amt==0 and (prop_amt== 0 or math.isnan(prop_amt)):\n",
    "            sincere_nondonors_ids.add(did)\n",
    "        elif amt>0 and prop_amt> amt:\n",
    "            sincere_donors_ids.add(did)\n",
    "        else:\n",
    "            # print(amt,prop_amt)\n",
    "            sincere_donors_ids.add(did)\n",
    "#             insincere_donors_ids.add(did)\n",
    "\n",
    "print(\"Sincere donors= \",len(sincere_donors_ids))\n",
    "print(\"Sincere non-donors= \",len(sincere_nondonors_ids))\n",
    "print(\"Insincere donors= \",len(insincere_donors_ids))"
   ]
  },
  {
   "cell_type": "code",
   "execution_count": 4,
   "metadata": {},
   "outputs": [
    {
     "data": {
      "text/plain": [
       "'Coarse-grained Labels\\tLabel Name\\navoidance/self-assertion\\tdirect-rejection\\nempowerment\\tself-pity\\ncontesting /counter-argumentation\\tdeflect-responsibility\\ncontesting / source-degradation\\tattack-credibility\\ncontesting/ biased-processing\\torganization-inquiry\\nattitude bolstering\\tpersonal-choice\\navoidance/\\tdelay-tactic\\navoidance/\\thesitance\\ncontesting/ counter-argumentation\\tnitpicking\\n\\tnot-a-strategy'"
      ]
     },
     "execution_count": 4,
     "metadata": {},
     "output_type": "execute_result"
    }
   ],
   "source": []
  },
  {
   "cell_type": "code",
   "execution_count": null,
   "metadata": {},
   "outputs": [],
   "source": []
  }
 ],
 "metadata": {
  "kernelspec": {
   "display_name": "Python 3",
   "language": "python",
   "name": "python3"
  },
  "language_info": {
   "codemirror_mode": {
    "name": "ipython",
    "version": 3
   },
   "file_extension": ".py",
   "mimetype": "text/x-python",
   "name": "python",
   "nbconvert_exporter": "python",
   "pygments_lexer": "ipython3",
   "version": "3.7.5"
  }
 },
 "nbformat": 4,
 "nbformat_minor": 2
}
