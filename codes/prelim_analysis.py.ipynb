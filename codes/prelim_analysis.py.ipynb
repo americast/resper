{
 "cells": [
  {
   "cell_type": "code",
   "execution_count": 45,
   "metadata": {},
   "outputs": [
    {
     "name": "stdout",
     "output_type": "stream",
     "text": [
      "Sincere donors=  115\n",
      "Sincere non-donors=  185\n"
     ]
    }
   ],
   "source": [
    "import sys; sys.path.append('common/');\n",
    "from helper import *\n",
    "\n",
    "DATA_PATH = '/projects/persuasionforgood-master/Face_acts/dialogue_act_prediction/resisting-persuasion/data'\n",
    "\n",
    "df = pd.read_csv(DATA_PATH+'/Final_annotations.csv')\n",
    "df = df.rename(columns={\"Our Label\": \"fine_labels\"})\n",
    "\n",
    "for index, row in df.iterrows():\n",
    "    if row['B4']==1 and row['fine_labels']!= row['fine_labels']:\n",
    "        print(index, row)\n",
    "\n",
    "\n",
    "fine_labels = [i for i in list(set(df['fine_labels'])) if i==i]\n",
    "\n",
    "fine2coarse_dict = {}\n",
    "fine2coarse_dict['deflect-responsibility'] = 'contesting'\n",
    "fine2coarse_dict['organization-inquiry']   = 'contesting'#'biased-processing'\n",
    "fine2coarse_dict['attack-credibility']     = 'contesting'\n",
    "fine2coarse_dict['self-pity']              = 'empowerment'\n",
    "fine2coarse_dict['nitpicking']             = 'contesting'\n",
    "fine2coarse_dict['direct-rejection']       = 'avoidance'\n",
    "fine2coarse_dict['personal-choice']        = 'empowerment'\n",
    "fine2coarse_dict['delay-tactic']           = 'avoidance'\n",
    "fine2coarse_dict['hesitance']              = 'avoidance'\n",
    "fine2coarse_dict['not-a-strategy']         = 'not-a-strategy'\n",
    "\n",
    "fine2resistance_dict = {}\n",
    "fine2resistance_dict['deflect-responsibility'] = 'counter-argumentation'\n",
    "fine2resistance_dict['organization-inquiry']   = 'source-degradation' # biased-processing\n",
    "fine2resistance_dict['attack-credibility']     = 'source-degradation'\n",
    "fine2resistance_dict['self-pity']              = 'empowerment'\n",
    "fine2resistance_dict['nitpicking']             = 'counter-argumentation'\n",
    "fine2resistance_dict['direct-rejection']       = 'self-assertion'\n",
    "fine2resistance_dict['personal-choice']        = 'attitude-bolstering'\n",
    "fine2resistance_dict['delay-tactic']           = 'avoidance'\n",
    "fine2resistance_dict['hesitance']              = 'avoidance'\n",
    "fine2resistance_dict['not-a-strategy']         = 'not-a-strategy'\n",
    "\n",
    "coarse_labels     = []\n",
    "resistance_labels = []\n",
    "\n",
    "for i, row in df.iterrows():\n",
    "    label = row['fine_labels']\n",
    "    if label in fine2coarse_dict:\n",
    "        coarse_labels.append(fine2coarse_dict[label])\n",
    "        resistance_labels.append(fine2resistance_dict[label])\n",
    "    else:\n",
    "        resistance_labels.append('None')\n",
    "        coarse_labels.append('None')\n",
    "        \n",
    "df['coarse_labels'] = coarse_labels\n",
    "df['resistance_labels'] = resistance_labels\n",
    "\n",
    "info_df = pd.read_csv(DATA_PATH+'/300_info.csv',sep=',')\n",
    "\n",
    "sincere_donors_ids=set()\n",
    "sincere_nondonors_ids=set()\n",
    "for index, row in info_df.iterrows():\n",
    "    did= row['B2']\n",
    "    role=str(row['B4'])\n",
    "    prop_amt=float(row['B5'])\n",
    "    amt= float(row['B6'])\n",
    "    if role =='1':\n",
    "        if amt>0 and prop_amt<= amt:\n",
    "            sincere_donors_ids.add(did)\n",
    "        elif amt==0 and (prop_amt== 0 or math.isnan(prop_amt)):\n",
    "            sincere_nondonors_ids.add(did)\n",
    "        elif amt>0 and prop_amt> amt:\n",
    "            sincere_donors_ids.add(did)\n",
    "        else:\n",
    "            # print(amt,prop_amt)\n",
    "#             sincere_donors_ids.add(did)\n",
    "            sincere_nondonors_ids.add(did)\n",
    "\n",
    "print(\"Sincere donors= \",len(sincere_donors_ids))\n",
    "print(\"Sincere non-donors= \",len(sincere_nondonors_ids))"
   ]
  },
  {
   "cell_type": "code",
   "execution_count": 46,
   "metadata": {},
   "outputs": [
    {
     "name": "stdout",
     "output_type": "stream",
     "text": [
      "No of valid data-points 4638\n"
     ]
    }
   ],
   "source": [
    "print('No of valid data-points {}'.format(len(df[df.B4==1])))\n",
    "\n",
    "import scipy.stats\n",
    "def print_label_dist(label_name):\n",
    "    labels_list  = list(set(list(df[df.B4==1][label_name])))\n",
    "    labels_dict  = ddict(lambda: ddict(int))\n",
    "    convs_dict   = ddict(lambda: ddict(list))\n",
    "        \n",
    "    df2 = df[df.B4 ==1]\n",
    "    for index, row in df2.iterrows():\n",
    "        group_name = 'SD'\n",
    "        if row['B2'] in sincere_nondonors_ids:\n",
    "            group_name ='SND'\n",
    "        labels_dict[group_name][row[label_name]]+=1\n",
    "        \n",
    "        for label in labels_list:\n",
    "            if label == row[label_name]:\n",
    "                convs_dict[group_name][label].append(1)\n",
    "            else:\n",
    "                convs_dict[group_name][label].append(0)\n",
    "    \n",
    "    print('Distribution of the different strategies among the different categories')\n",
    "    print(\"Label\\t\\t\\t#Donor #NonDonor Mean-D Mean-ND pval-1\\t pval-2\")\n",
    "    for label in labels_list:\n",
    "        a = convs_dict['SD'][label]\n",
    "        b = convs_dict['SND'][label]\n",
    "        mu_a = round(np.mean(a),3)\n",
    "        mu_b = round(np.mean(b),3)\n",
    "        sum_a = sum(a)\n",
    "        sum_b = sum(b)\n",
    "        stat, pval   = scipy.stats.ks_2samp(a,b)\n",
    "        stat2,pval2  = scipy.stats.ttest_ind(a,b,equal_var=False)\n",
    "        if len(label)<=len('personal-choice'):\n",
    "            print(\"{}\\t\\t{}\\t{}\\t{}\\t{}\\t{}\\t{}\".format(label, sum_a, sum_b, mu_a , mu_b, round(pval,4), round(pval2,4)))\n",
    "        else:\n",
    "            print(\"{}\\t{}\\t{}\\t{}\\t{}\\t{}\\t{}\".format(label, sum_a, sum_b, mu_a , mu_b, round(pval,4), round(pval2,4)))\n",
    "    print('*********************************\\n\\n')\n",
    "    return "
   ]
  },
  {
   "cell_type": "code",
   "execution_count": null,
   "metadata": {},
   "outputs": [],
   "source": [
    "print_label_dist('fine_labels')\n",
    "\n",
    "print_label_dist('coarse_labels')\n",
    "\n",
    "print_label_dist('resistance_labels')"
   ]
  },
  {
   "cell_type": "code",
   "execution_count": null,
   "metadata": {},
   "outputs": [],
   "source": []
  }
 ],
 "metadata": {
  "kernelspec": {
   "display_name": "Python 3",
   "language": "python",
   "name": "python3"
  },
  "language_info": {
   "codemirror_mode": {
    "name": "ipython",
    "version": 3
   },
   "file_extension": ".py",
   "mimetype": "text/x-python",
   "name": "python",
   "nbconvert_exporter": "python",
   "pygments_lexer": "ipython3",
   "version": "3.7.5"
  }
 },
 "nbformat": 4,
 "nbformat_minor": 2
}
